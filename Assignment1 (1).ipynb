{
 "cells": [
  {
   "cell_type": "markdown",
   "id": "ad1584b1",
   "metadata": {},
   "source": [
    "### 1.  Assign your Name to variable name and Age to variable age. Make a Python program that prints your name and age."
   ]
  },
  {
   "cell_type": "code",
   "execution_count": 6,
   "id": "8054994f",
   "metadata": {},
   "outputs": [
    {
     "name": "stdout",
     "output_type": "stream",
     "text": [
      "My name is  Richa Rai and I am  20  years old.\n"
     ]
    }
   ],
   "source": [
    "name = 'Richa Rai'\n",
    "age = 20\n",
    "print('My name is ',name, 'and I am ', age, ' years old.')"
   ]
  },
  {
   "cell_type": "markdown",
   "id": "e9aba06c",
   "metadata": {},
   "source": [
    "### 2.  X=\"Datascience is used to extract meaningful insights.\" Split the string  "
   ]
  },
  {
   "cell_type": "code",
   "execution_count": 7,
   "id": "c045d24c",
   "metadata": {},
   "outputs": [
    {
     "data": {
      "text/plain": [
       "['Datascience', 'is', 'used', 'to', 'extract', 'meaningful', 'insights.']"
      ]
     },
     "execution_count": 7,
     "metadata": {},
     "output_type": "execute_result"
    }
   ],
   "source": [
    "X = 'Datascience is used to extract meaningful insights.'\n",
    "X.split()"
   ]
  },
  {
   "cell_type": "markdown",
   "id": "929d2fd7",
   "metadata": {},
   "source": [
    "### 3. Make a function that gives multiplication of two numbers."
   ]
  },
  {
   "cell_type": "code",
   "execution_count": 10,
   "id": "fcb5af84",
   "metadata": {},
   "outputs": [
    {
     "name": "stdout",
     "output_type": "stream",
     "text": [
      "product of 2 numbers 25  and 35  is 875\n"
     ]
    }
   ],
   "source": [
    "x = 25\n",
    "y = 35\n",
    "z = x*y\n",
    "print('product of 2 numbers', x, ' and', y, ' is', z)"
   ]
  },
  {
   "cell_type": "markdown",
   "id": "ad75f8d8",
   "metadata": {},
   "source": [
    "### 4. Create a Dictionary of 5 States with their capitals. also print the keys and values. "
   ]
  },
  {
   "cell_type": "code",
   "execution_count": 12,
   "id": "4d24a645",
   "metadata": {},
   "outputs": [
    {
     "name": "stdout",
     "output_type": "stream",
     "text": [
      "{'States': ['Uttar Pradesh', 'Bihar', 'Haryana', 'Sikkim', 'Madhya Pradesh'], 'Capital': ['Lucknow', 'Patna', 'Chandigarh', 'Gangtok', 'Bhopal']}\n"
     ]
    }
   ],
   "source": [
    "Dictionary = {'States':['Uttar Pradesh','Bihar','Haryana','Sikkim','Madhya Pradesh'],'Capital':['Lucknow','Patna','Chandigarh','Gangtok','Bhopal']}\n",
    "print(Dictionary)"
   ]
  },
  {
   "cell_type": "code",
   "execution_count": 13,
   "id": "eef9429c",
   "metadata": {},
   "outputs": [
    {
     "data": {
      "text/plain": [
       "dict_keys(['States', 'Capital'])"
      ]
     },
     "execution_count": 13,
     "metadata": {},
     "output_type": "execute_result"
    }
   ],
   "source": [
    "Dictionary.keys()\n"
   ]
  },
  {
   "cell_type": "code",
   "execution_count": 14,
   "id": "352bacc8",
   "metadata": {},
   "outputs": [
    {
     "data": {
      "text/plain": [
       "dict_values([['Uttar Pradesh', 'Bihar', 'Haryana', 'Sikkim', 'Madhya Pradesh'], ['Lucknow', 'Patna', 'Chandigarh', 'Gangtok', 'Bhopal']])"
      ]
     },
     "execution_count": 14,
     "metadata": {},
     "output_type": "execute_result"
    }
   ],
   "source": [
    "Dictionary.values()"
   ]
  },
  {
   "cell_type": "markdown",
   "id": "7b1dd967",
   "metadata": {},
   "source": [
    "### 5. Create a list of 1000 numbers using range function"
   ]
  },
  {
   "cell_type": "code",
   "execution_count": 16,
   "id": "0be890e1",
   "metadata": {},
   "outputs": [
    {
     "data": {
      "text/plain": [
       "array([   1,    2,    3,    4,    5,    6,    7,    8,    9,   10,   11,\n",
       "         12,   13,   14,   15,   16,   17,   18,   19,   20,   21,   22,\n",
       "         23,   24,   25,   26,   27,   28,   29,   30,   31,   32,   33,\n",
       "         34,   35,   36,   37,   38,   39,   40,   41,   42,   43,   44,\n",
       "         45,   46,   47,   48,   49,   50,   51,   52,   53,   54,   55,\n",
       "         56,   57,   58,   59,   60,   61,   62,   63,   64,   65,   66,\n",
       "         67,   68,   69,   70,   71,   72,   73,   74,   75,   76,   77,\n",
       "         78,   79,   80,   81,   82,   83,   84,   85,   86,   87,   88,\n",
       "         89,   90,   91,   92,   93,   94,   95,   96,   97,   98,   99,\n",
       "        100,  101,  102,  103,  104,  105,  106,  107,  108,  109,  110,\n",
       "        111,  112,  113,  114,  115,  116,  117,  118,  119,  120,  121,\n",
       "        122,  123,  124,  125,  126,  127,  128,  129,  130,  131,  132,\n",
       "        133,  134,  135,  136,  137,  138,  139,  140,  141,  142,  143,\n",
       "        144,  145,  146,  147,  148,  149,  150,  151,  152,  153,  154,\n",
       "        155,  156,  157,  158,  159,  160,  161,  162,  163,  164,  165,\n",
       "        166,  167,  168,  169,  170,  171,  172,  173,  174,  175,  176,\n",
       "        177,  178,  179,  180,  181,  182,  183,  184,  185,  186,  187,\n",
       "        188,  189,  190,  191,  192,  193,  194,  195,  196,  197,  198,\n",
       "        199,  200,  201,  202,  203,  204,  205,  206,  207,  208,  209,\n",
       "        210,  211,  212,  213,  214,  215,  216,  217,  218,  219,  220,\n",
       "        221,  222,  223,  224,  225,  226,  227,  228,  229,  230,  231,\n",
       "        232,  233,  234,  235,  236,  237,  238,  239,  240,  241,  242,\n",
       "        243,  244,  245,  246,  247,  248,  249,  250,  251,  252,  253,\n",
       "        254,  255,  256,  257,  258,  259,  260,  261,  262,  263,  264,\n",
       "        265,  266,  267,  268,  269,  270,  271,  272,  273,  274,  275,\n",
       "        276,  277,  278,  279,  280,  281,  282,  283,  284,  285,  286,\n",
       "        287,  288,  289,  290,  291,  292,  293,  294,  295,  296,  297,\n",
       "        298,  299,  300,  301,  302,  303,  304,  305,  306,  307,  308,\n",
       "        309,  310,  311,  312,  313,  314,  315,  316,  317,  318,  319,\n",
       "        320,  321,  322,  323,  324,  325,  326,  327,  328,  329,  330,\n",
       "        331,  332,  333,  334,  335,  336,  337,  338,  339,  340,  341,\n",
       "        342,  343,  344,  345,  346,  347,  348,  349,  350,  351,  352,\n",
       "        353,  354,  355,  356,  357,  358,  359,  360,  361,  362,  363,\n",
       "        364,  365,  366,  367,  368,  369,  370,  371,  372,  373,  374,\n",
       "        375,  376,  377,  378,  379,  380,  381,  382,  383,  384,  385,\n",
       "        386,  387,  388,  389,  390,  391,  392,  393,  394,  395,  396,\n",
       "        397,  398,  399,  400,  401,  402,  403,  404,  405,  406,  407,\n",
       "        408,  409,  410,  411,  412,  413,  414,  415,  416,  417,  418,\n",
       "        419,  420,  421,  422,  423,  424,  425,  426,  427,  428,  429,\n",
       "        430,  431,  432,  433,  434,  435,  436,  437,  438,  439,  440,\n",
       "        441,  442,  443,  444,  445,  446,  447,  448,  449,  450,  451,\n",
       "        452,  453,  454,  455,  456,  457,  458,  459,  460,  461,  462,\n",
       "        463,  464,  465,  466,  467,  468,  469,  470,  471,  472,  473,\n",
       "        474,  475,  476,  477,  478,  479,  480,  481,  482,  483,  484,\n",
       "        485,  486,  487,  488,  489,  490,  491,  492,  493,  494,  495,\n",
       "        496,  497,  498,  499,  500,  501,  502,  503,  504,  505,  506,\n",
       "        507,  508,  509,  510,  511,  512,  513,  514,  515,  516,  517,\n",
       "        518,  519,  520,  521,  522,  523,  524,  525,  526,  527,  528,\n",
       "        529,  530,  531,  532,  533,  534,  535,  536,  537,  538,  539,\n",
       "        540,  541,  542,  543,  544,  545,  546,  547,  548,  549,  550,\n",
       "        551,  552,  553,  554,  555,  556,  557,  558,  559,  560,  561,\n",
       "        562,  563,  564,  565,  566,  567,  568,  569,  570,  571,  572,\n",
       "        573,  574,  575,  576,  577,  578,  579,  580,  581,  582,  583,\n",
       "        584,  585,  586,  587,  588,  589,  590,  591,  592,  593,  594,\n",
       "        595,  596,  597,  598,  599,  600,  601,  602,  603,  604,  605,\n",
       "        606,  607,  608,  609,  610,  611,  612,  613,  614,  615,  616,\n",
       "        617,  618,  619,  620,  621,  622,  623,  624,  625,  626,  627,\n",
       "        628,  629,  630,  631,  632,  633,  634,  635,  636,  637,  638,\n",
       "        639,  640,  641,  642,  643,  644,  645,  646,  647,  648,  649,\n",
       "        650,  651,  652,  653,  654,  655,  656,  657,  658,  659,  660,\n",
       "        661,  662,  663,  664,  665,  666,  667,  668,  669,  670,  671,\n",
       "        672,  673,  674,  675,  676,  677,  678,  679,  680,  681,  682,\n",
       "        683,  684,  685,  686,  687,  688,  689,  690,  691,  692,  693,\n",
       "        694,  695,  696,  697,  698,  699,  700,  701,  702,  703,  704,\n",
       "        705,  706,  707,  708,  709,  710,  711,  712,  713,  714,  715,\n",
       "        716,  717,  718,  719,  720,  721,  722,  723,  724,  725,  726,\n",
       "        727,  728,  729,  730,  731,  732,  733,  734,  735,  736,  737,\n",
       "        738,  739,  740,  741,  742,  743,  744,  745,  746,  747,  748,\n",
       "        749,  750,  751,  752,  753,  754,  755,  756,  757,  758,  759,\n",
       "        760,  761,  762,  763,  764,  765,  766,  767,  768,  769,  770,\n",
       "        771,  772,  773,  774,  775,  776,  777,  778,  779,  780,  781,\n",
       "        782,  783,  784,  785,  786,  787,  788,  789,  790,  791,  792,\n",
       "        793,  794,  795,  796,  797,  798,  799,  800,  801,  802,  803,\n",
       "        804,  805,  806,  807,  808,  809,  810,  811,  812,  813,  814,\n",
       "        815,  816,  817,  818,  819,  820,  821,  822,  823,  824,  825,\n",
       "        826,  827,  828,  829,  830,  831,  832,  833,  834,  835,  836,\n",
       "        837,  838,  839,  840,  841,  842,  843,  844,  845,  846,  847,\n",
       "        848,  849,  850,  851,  852,  853,  854,  855,  856,  857,  858,\n",
       "        859,  860,  861,  862,  863,  864,  865,  866,  867,  868,  869,\n",
       "        870,  871,  872,  873,  874,  875,  876,  877,  878,  879,  880,\n",
       "        881,  882,  883,  884,  885,  886,  887,  888,  889,  890,  891,\n",
       "        892,  893,  894,  895,  896,  897,  898,  899,  900,  901,  902,\n",
       "        903,  904,  905,  906,  907,  908,  909,  910,  911,  912,  913,\n",
       "        914,  915,  916,  917,  918,  919,  920,  921,  922,  923,  924,\n",
       "        925,  926,  927,  928,  929,  930,  931,  932,  933,  934,  935,\n",
       "        936,  937,  938,  939,  940,  941,  942,  943,  944,  945,  946,\n",
       "        947,  948,  949,  950,  951,  952,  953,  954,  955,  956,  957,\n",
       "        958,  959,  960,  961,  962,  963,  964,  965,  966,  967,  968,\n",
       "        969,  970,  971,  972,  973,  974,  975,  976,  977,  978,  979,\n",
       "        980,  981,  982,  983,  984,  985,  986,  987,  988,  989,  990,\n",
       "        991,  992,  993,  994,  995,  996,  997,  998,  999, 1000])"
      ]
     },
     "execution_count": 16,
     "metadata": {},
     "output_type": "execute_result"
    }
   ],
   "source": [
    "import numpy as np\n",
    "np.arange(start = 1, stop = 1001)"
   ]
  },
  {
   "cell_type": "markdown",
   "id": "8a85b95f",
   "metadata": {},
   "source": [
    "###  6. Create an identity matrix of dimension 4 by 4"
   ]
  },
  {
   "cell_type": "code",
   "execution_count": 17,
   "id": "eaa8ef62",
   "metadata": {},
   "outputs": [
    {
     "name": "stdout",
     "output_type": "stream",
     "text": [
      "[[1. 0. 0. 0.]\n",
      " [0. 1. 0. 0.]\n",
      " [0. 0. 1. 0.]\n",
      " [0. 0. 0. 1.]]\n"
     ]
    }
   ],
   "source": [
    "i =  np.eye(4)\n",
    "print(i)"
   ]
  },
  {
   "cell_type": "markdown",
   "id": "92df21ce",
   "metadata": {},
   "source": [
    "### 7. Create a 3x3 matrix with values ranging from 1 to 9"
   ]
  },
  {
   "cell_type": "code",
   "execution_count": 20,
   "id": "fc883389",
   "metadata": {},
   "outputs": [
    {
     "name": "stdout",
     "output_type": "stream",
     "text": [
      "[[1 2 3]\n",
      " [4 5 6]\n",
      " [7 8 9]]\n"
     ]
    }
   ],
   "source": [
    "m = np.arange(1,10)\n",
    "n = m.reshape(3,3)\n",
    "print(n)"
   ]
  },
  {
   "cell_type": "markdown",
   "id": "227cd267",
   "metadata": {},
   "source": [
    "###  8. Create 2 similar dimensional array and perform sum on them"
   ]
  },
  {
   "cell_type": "code",
   "execution_count": 35,
   "id": "bdfab02b",
   "metadata": {},
   "outputs": [
    {
     "name": "stdout",
     "output_type": "stream",
     "text": [
      "1st array: \n",
      " [[15 16 17]\n",
      " [18 19 20]\n",
      " [21 22 23]]\n",
      "\n",
      "2nd array: \n",
      " [[38 40 42]\n",
      " [44 46 48]\n",
      " [50 52 54]]\n"
     ]
    }
   ],
   "source": [
    "arr1 = np.arange(15, 24)\n",
    "arr1 = arr1.reshape(3,3)\n",
    "print('1st array: \\n',arr1)\n",
    "\n",
    "arr2 = np.arange(38,56,2)\n",
    "arr2 = arr2.reshape(3,3)\n",
    "print('\\n2nd array: \\n',arr2)\n",
    "\n",
    "     "
   ]
  },
  {
   "cell_type": "code",
   "execution_count": 40,
   "id": "dc4ca07d",
   "metadata": {},
   "outputs": [
    {
     "name": "stdout",
     "output_type": "stream",
     "text": [
      "Sum of 1st array and 2nd array is: \n",
      " [[53 56 59]\n",
      " [62 65 68]\n",
      " [71 74 77]]\n"
     ]
    }
   ],
   "source": [
    "arr3 = np.add(arr1,arr2)\n",
    "print('Sum of 1st array and 2nd array is: \\n', arr3)"
   ]
  },
  {
   "cell_type": "markdown",
   "id": "4c9ef149",
   "metadata": {},
   "source": [
    "### 9. Generate the series of dates from 1st Feb, 2023 to 1st March, 2023 (both inclusive)\n"
   ]
  },
  {
   "cell_type": "code",
   "execution_count": 41,
   "id": "7b645894",
   "metadata": {},
   "outputs": [
    {
     "name": "stdout",
     "output_type": "stream",
     "text": [
      "DatetimeIndex(['2023-02-01', '2023-02-02', '2023-02-03', '2023-02-04',\n",
      "               '2023-02-05', '2023-02-06', '2023-02-07', '2023-02-08',\n",
      "               '2023-02-09', '2023-02-10', '2023-02-11', '2023-02-12',\n",
      "               '2023-02-13', '2023-02-14', '2023-02-15', '2023-02-16',\n",
      "               '2023-02-17', '2023-02-18', '2023-02-19', '2023-02-20',\n",
      "               '2023-02-21', '2023-02-22', '2023-02-23', '2023-02-24',\n",
      "               '2023-02-25', '2023-02-26', '2023-02-27', '2023-02-28',\n",
      "               '2023-03-01'],\n",
      "              dtype='datetime64[ns]', freq='24H')\n"
     ]
    }
   ],
   "source": [
    "import pandas as pd\n",
    "dRange = pd.date_range(start ='2-1-2023', end ='3-1-2023', freq ='24H')\n",
    "print(dRange)"
   ]
  },
  {
   "cell_type": "markdown",
   "id": "a7e350d5",
   "metadata": {},
   "source": [
    "### 10. Given a dictionary, convert it into corresponding dataframe and display it\n",
    "dictionary = {'Brand': ['Maruti', 'Renault', 'Hyndai'], 'Sales' : [250, 200, 240]}"
   ]
  },
  {
   "cell_type": "code",
   "execution_count": 42,
   "id": "5ad8f9b8",
   "metadata": {},
   "outputs": [
    {
     "name": "stdout",
     "output_type": "stream",
     "text": [
      "     Brand  Sales\n",
      "0   Maruti    250\n",
      "1  Renault    200\n",
      "2   Hyndai    240\n"
     ]
    }
   ],
   "source": [
    "import pandas as pd\n",
    "\n",
    "dictionary = {'Brand': ['Maruti', 'Renault', 'Hyndai'], 'Sales': [250, 200, 240]}\n",
    "\n",
    "df = pd.DataFrame(dictionary)\n",
    "\n",
    "print(df)"
   ]
  },
  {
   "cell_type": "code",
   "execution_count": null,
   "id": "cc0a07db",
   "metadata": {},
   "outputs": [],
   "source": []
  }
 ],
 "metadata": {
  "kernelspec": {
   "display_name": "Python 3 (ipykernel)",
   "language": "python",
   "name": "python3"
  },
  "language_info": {
   "codemirror_mode": {
    "name": "ipython",
    "version": 3
   },
   "file_extension": ".py",
   "mimetype": "text/x-python",
   "name": "python",
   "nbconvert_exporter": "python",
   "pygments_lexer": "ipython3",
   "version": "3.10.9"
  }
 },
 "nbformat": 4,
 "nbformat_minor": 5
}
